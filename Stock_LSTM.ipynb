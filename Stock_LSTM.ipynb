{
 "cells": [
  {
   "cell_type": "markdown",
   "id": "approximate-senate",
   "metadata": {},
   "source": [
    "## Prediction index of NASDAQ using RNN(LSTM)\n",
    "\n",
    "We extract the dataset directly from the web yahoo finance selecting the value '^NDX'\n",
    "\n",
    "LSTM, Long short term memory cells are used to predict the Close value index"
   ]
  },
  {
   "cell_type": "code",
   "execution_count": 1,
   "id": "active-state",
   "metadata": {},
   "outputs": [],
   "source": [
    "\n",
    "# yfinance is a popular open source library to access the financial data available on Yahoo Finance\n",
    "# https://pypi.org/project/yfinance/\n",
    "\n",
    "import yfinance as yf\n",
    "\n",
    "# typical library to plot and manipulate data\n",
    "\n",
    "import matplotlib.pyplot as plt\n",
    "import numpy as np\n",
    "import seaborn as sns\n",
    "import pandas as pd\n",
    "\n",
    "# Normalize the data\n",
    "\n",
    "from sklearn.preprocessing import StandardScaler\n",
    "\n",
    "# keras to model and predict the data.\n",
    "\n",
    "from keras.models import Sequential\n",
    "from keras.layers import Dense, LSTM, Activation, Dropout\n",
    "from keras.callbacks import ModelCheckpoint "
   ]
  },
  {
   "cell_type": "markdown",
   "id": "floral-trade",
   "metadata": {},
   "source": [
    "# Extraction\n",
    "\n",
    "We extract the value '^NDX' for 5 years using the method Ticker from yfinance library. We can select other values: \n",
    "AMAZON(AMZN), Ibex(^IBEX), Google(GOOG),..."
   ]
  },
  {
   "cell_type": "code",
   "execution_count": 2,
   "id": "ranking-spiritual",
   "metadata": {},
   "outputs": [
    {
     "data": {
      "text/html": [
       "<div>\n",
       "<style scoped>\n",
       "    .dataframe tbody tr th:only-of-type {\n",
       "        vertical-align: middle;\n",
       "    }\n",
       "\n",
       "    .dataframe tbody tr th {\n",
       "        vertical-align: top;\n",
       "    }\n",
       "\n",
       "    .dataframe thead th {\n",
       "        text-align: right;\n",
       "    }\n",
       "</style>\n",
       "<table border=\"1\" class=\"dataframe\">\n",
       "  <thead>\n",
       "    <tr style=\"text-align: right;\">\n",
       "      <th></th>\n",
       "      <th>Open</th>\n",
       "      <th>High</th>\n",
       "      <th>Low</th>\n",
       "      <th>Close</th>\n",
       "      <th>Volume</th>\n",
       "      <th>Dividends</th>\n",
       "      <th>Stock Splits</th>\n",
       "    </tr>\n",
       "    <tr>\n",
       "      <th>Date</th>\n",
       "      <th></th>\n",
       "      <th></th>\n",
       "      <th></th>\n",
       "      <th></th>\n",
       "      <th></th>\n",
       "      <th></th>\n",
       "      <th></th>\n",
       "    </tr>\n",
       "  </thead>\n",
       "  <tbody>\n",
       "    <tr>\n",
       "      <th>2015-05-06</th>\n",
       "      <td>4420.299805</td>\n",
       "      <td>4429.959961</td>\n",
       "      <td>4349.930176</td>\n",
       "      <td>4379.750000</td>\n",
       "      <td>2144620000</td>\n",
       "      <td>0</td>\n",
       "      <td>0</td>\n",
       "    </tr>\n",
       "    <tr>\n",
       "      <th>2015-05-07</th>\n",
       "      <td>4377.810059</td>\n",
       "      <td>4413.729980</td>\n",
       "      <td>4373.290039</td>\n",
       "      <td>4401.549805</td>\n",
       "      <td>2042960000</td>\n",
       "      <td>0</td>\n",
       "      <td>0</td>\n",
       "    </tr>\n",
       "    <tr>\n",
       "      <th>2015-05-08</th>\n",
       "      <td>4445.000000</td>\n",
       "      <td>4466.169922</td>\n",
       "      <td>4441.729980</td>\n",
       "      <td>4458.649902</td>\n",
       "      <td>1978760000</td>\n",
       "      <td>0</td>\n",
       "      <td>0</td>\n",
       "    </tr>\n",
       "    <tr>\n",
       "      <th>2015-05-11</th>\n",
       "      <td>4457.620117</td>\n",
       "      <td>4468.750000</td>\n",
       "      <td>4437.529785</td>\n",
       "      <td>4438.640137</td>\n",
       "      <td>1731390000</td>\n",
       "      <td>0</td>\n",
       "      <td>0</td>\n",
       "    </tr>\n",
       "    <tr>\n",
       "      <th>2015-05-12</th>\n",
       "      <td>4412.819824</td>\n",
       "      <td>4441.399902</td>\n",
       "      <td>4380.520020</td>\n",
       "      <td>4420.649902</td>\n",
       "      <td>1705870000</td>\n",
       "      <td>0</td>\n",
       "      <td>0</td>\n",
       "    </tr>\n",
       "  </tbody>\n",
       "</table>\n",
       "</div>"
      ],
      "text/plain": [
       "                   Open         High          Low        Close      Volume  \\\n",
       "Date                                                                         \n",
       "2015-05-06  4420.299805  4429.959961  4349.930176  4379.750000  2144620000   \n",
       "2015-05-07  4377.810059  4413.729980  4373.290039  4401.549805  2042960000   \n",
       "2015-05-08  4445.000000  4466.169922  4441.729980  4458.649902  1978760000   \n",
       "2015-05-11  4457.620117  4468.750000  4437.529785  4438.640137  1731390000   \n",
       "2015-05-12  4412.819824  4441.399902  4380.520020  4420.649902  1705870000   \n",
       "\n",
       "            Dividends  Stock Splits  \n",
       "Date                                 \n",
       "2015-05-06          0             0  \n",
       "2015-05-07          0             0  \n",
       "2015-05-08          0             0  \n",
       "2015-05-11          0             0  \n",
       "2015-05-12          0             0  "
      ]
     },
     "execution_count": 2,
     "metadata": {},
     "output_type": "execute_result"
    }
   ],
   "source": [
    "msft = yf.Ticker(\"^NDX\")\n",
    "\n",
    "df = msft.history(period=\"6y\")\n",
    "df.head()"
   ]
  },
  {
   "cell_type": "code",
   "execution_count": 3,
   "id": "confused-blackjack",
   "metadata": {},
   "outputs": [
    {
     "name": "stdout",
     "output_type": "stream",
     "text": [
      "<class 'pandas.core.frame.DataFrame'>\n",
      "DatetimeIndex: 1511 entries, 2015-05-06 to 2021-05-05\n",
      "Data columns (total 7 columns):\n",
      " #   Column        Non-Null Count  Dtype  \n",
      "---  ------        --------------  -----  \n",
      " 0   Open          1511 non-null   float64\n",
      " 1   High          1511 non-null   float64\n",
      " 2   Low           1511 non-null   float64\n",
      " 3   Close         1511 non-null   float64\n",
      " 4   Volume        1511 non-null   int64  \n",
      " 5   Dividends     1511 non-null   int64  \n",
      " 6   Stock Splits  1511 non-null   int64  \n",
      "dtypes: float64(4), int64(3)\n",
      "memory usage: 94.4 KB\n"
     ]
    }
   ],
   "source": [
    "df.info()"
   ]
  },
  {
   "cell_type": "code",
   "execution_count": 4,
   "id": "approved-antigua",
   "metadata": {},
   "outputs": [
    {
     "name": "stdout",
     "output_type": "stream",
     "text": [
      "<class 'pandas.core.frame.DataFrame'>\n",
      "DatetimeIndex: 1511 entries, 2015-05-06 to 2021-05-05\n",
      "Data columns (total 1 columns):\n",
      " #   Column  Non-Null Count  Dtype  \n",
      "---  ------  --------------  -----  \n",
      " 0   Close   1511 non-null   float64\n",
      "dtypes: float64(1)\n",
      "memory usage: 23.6 KB\n"
     ]
    }
   ],
   "source": [
    "# We select the 'Close' column\n",
    "\n",
    "df_final = pd.DataFrame(df.iloc[:,3])\n",
    "df_final.info()"
   ]
  },
  {
   "cell_type": "code",
   "execution_count": 5,
   "id": "unusual-specific",
   "metadata": {},
   "outputs": [
    {
     "data": {
      "image/png": "[encoded data removed]",
      "text/plain": [
       "<Figure size 864x504 with 1 Axes>"
      ]
     },
     "metadata": {
      "needs_background": "light"
     },
     "output_type": "display_data"
    }
   ],
   "source": [
    "# we plot the time series at the begining to now\n",
    "\n",
    "plt.figure(figsize=(12,7))\n",
    "\n",
    "plt.plot(df_final['Close'])\n",
    "plt.show()"
   ]
  },
  {
   "cell_type": "markdown",
   "id": "metric-grenada",
   "metadata": {},
   "source": [
    "# Train and Test\n",
    "\n",
    "Split the df in train (values to 2020) and test (values from 2021) "
   ]
  },
  {
   "cell_type": "code",
   "execution_count": 6,
   "id": "crude-worthy",
   "metadata": {},
   "outputs": [
    {
     "name": "stdout",
     "output_type": "stream",
     "text": [
      "(1426, 2)\n",
      "(85, 2)\n",
      "        Date        Close\n",
      "0 2015-05-06  4379.750000\n",
      "1 2015-05-07  4401.549805\n",
      "2 2015-05-08  4458.649902\n",
      "3 2015-05-11  4438.640137\n",
      "4 2015-05-12  4420.649902\n",
      "<class 'pandas.core.frame.DataFrame'>\n",
      "RangeIndex: 1426 entries, 0 to 1425\n",
      "Data columns (total 2 columns):\n",
      " #   Column  Non-Null Count  Dtype         \n",
      "---  ------  --------------  -----         \n",
      " 0   Date    1426 non-null   datetime64[ns]\n",
      " 1   Close   1426 non-null   float64       \n",
      "dtypes: datetime64[ns](1), float64(1)\n",
      "memory usage: 22.4 KB\n",
      "None\n"
     ]
    }
   ],
   "source": [
    "\n",
    "train = df_final[:'2020'].iloc[:,0:1].reset_index()\n",
    "test = df_final['2021':].iloc[:,0:1].reset_index()\n",
    "\n",
    "print(train.shape)\n",
    "print(test.shape)\n",
    "print(train.head())\n",
    "print(train.info())"
   ]
  },
  {
   "cell_type": "markdown",
   "id": "purple-stuart",
   "metadata": {},
   "source": [
    "# Standardize features"
   ]
  },
  {
   "cell_type": "code",
   "execution_count": 7,
   "id": "chubby-baghdad",
   "metadata": {},
   "outputs": [
    {
     "data": {
      "text/plain": [
       "array([[-1.11954147],\n",
       "       [-1.10924325],\n",
       "       [-1.08226921],\n",
       "       ...,\n",
       "       [ 2.87872364],\n",
       "       [ 2.87960708],\n",
       "       [ 2.89988242]])"
      ]
     },
     "execution_count": 7,
     "metadata": {},
     "output_type": "execute_result"
    }
   ],
   "source": [
    "\n",
    "scale = StandardScaler()\n",
    "\n",
    "# df sólo con numéricas\n",
    "train_n = train._get_numeric_data()\n",
    "scale.fit(train_n)\n",
    "\n",
    "# df escalado\n",
    "train_scaled = scale.fit_transform(train_n)\n",
    "train_scaled"
   ]
  },
  {
   "cell_type": "markdown",
   "id": "confused-borough",
   "metadata": {},
   "source": [
    "# LSTM\n",
    "\n",
    "We create different subset of data to estimate the last one. We collect the value in the variable 'step' to modify and test different values. We split the df train and test using the previous variale 'step'"
   ]
  },
  {
   "cell_type": "code",
   "execution_count": 8,
   "id": "bound-combination",
   "metadata": {},
   "outputs": [
    {
     "name": "stdout",
     "output_type": "stream",
     "text": [
      "1426\n",
      "(1376, 50, 1)\n",
      "(1376, 1)\n"
     ]
    }
   ],
   "source": [
    "\n",
    "step = 50\n",
    "\n",
    "X_train = []\n",
    "Y_train = []\n",
    "m = len(train_scaled)\n",
    "print(m)\n",
    "\n",
    "for i in range(step,m):\n",
    "    # X: set de \"step\" datos: 0-step, 1-step+1, 2-step+2, etc\n",
    "    X_train.append(train_scaled[i-step:i])\n",
    "\n",
    "    # Y: The last data is loaded in Y_train\n",
    "    Y_train.append(train_scaled[i])\n",
    "\n",
    "X_train, Y_train = np.array(X_train), np.array(Y_train)\n",
    "\n",
    "print(X_train.shape)\n",
    "print(Y_train.shape)\n",
    "\n",
    "#print(X_train)"
   ]
  },
  {
   "cell_type": "code",
   "execution_count": 9,
   "id": "arctic-badge",
   "metadata": {},
   "outputs": [
    {
     "name": "stdout",
     "output_type": "stream",
     "text": [
      "Model: \"sequential\"\n",
      "_________________________________________________________________\n",
      "Layer (type)                 Output Shape              Param #   \n",
      "=================================================================\n",
      "lstm (LSTM)                  (None, 50)                10400     \n",
      "_________________________________________________________________\n",
      "activation (Activation)      (None, 50)                0         \n",
      "_________________________________________________________________\n",
      "dropout (Dropout)            (None, 50)                0         \n",
      "_________________________________________________________________\n",
      "dense (Dense)                (None, 1)                 51        \n",
      "=================================================================\n",
      "Total params: 10,451\n",
      "Trainable params: 10,451\n",
      "Non-trainable params: 0\n",
      "_________________________________________________________________\n"
     ]
    }
   ],
   "source": [
    "# Reshape X_train to adjust the model Keras (step x 1)\n",
    "\n",
    "X_train = np.reshape(X_train, (X_train.shape[0], X_train.shape[1], 1))\n",
    "\n",
    "model = Sequential()\n",
    "model.add(LSTM(units=50, input_shape=(X_train.shape[1],1)))\n",
    "model.add(Activation('relu'))\n",
    "model.add(Dropout(0.2))\n",
    "\n",
    "model.add(Dense(units=1))\n",
    "\n",
    "# It's regression process, we use loss 'mse' (mean square error) and use 'adam' a mixture between RMSprop and Momentun\n",
    "model.compile(optimizer='RMSprop',\n",
    "              loss='mse')\n",
    "\n",
    "# Number of parameter\n",
    "model.summary()\n"
   ]
  },
  {
   "cell_type": "code",
   "execution_count": 10,
   "id": "social-witness",
   "metadata": {},
   "outputs": [
    {
     "name": "stdout",
     "output_type": "stream",
     "text": [
      "Epoch 1/50\n",
      "46/46 [==============================] - 2s 14ms/step - loss: 0.3911\n",
      "WARNING:tensorflow:Can save best model only with val_loss available, skipping.\n",
      "Epoch 2/50\n",
      "46/46 [==============================] - 1s 14ms/step - loss: 0.0468\n",
      "WARNING:tensorflow:Can save best model only with val_loss available, skipping.\n",
      "Epoch 3/50\n",
      "46/46 [==============================] - 1s 13ms/step - loss: 0.0301\n",
      "WARNING:tensorflow:Can save best model only with val_loss available, skipping.\n",
      "Epoch 4/50\n",
      "46/46 [==============================] - 1s 12ms/step - loss: 0.0243\n",
      "WARNING:tensorflow:Can save best model only with val_loss available, skipping.\n",
      "Epoch 5/50\n",
      "46/46 [==============================] - 1s 12ms/step - loss: 0.0294\n",
      "WARNING:tensorflow:Can save best model only with val_loss available, skipping.\n",
      "Epoch 6/50\n",
      "46/46 [==============================] - 1s 12ms/step - loss: 0.0291\n",
      "WARNING:tensorflow:Can save best model only with val_loss available, skipping.\n",
      "Epoch 7/50\n",
      "46/46 [==============================] - 1s 12ms/step - loss: 0.0244\n",
      "WARNING:tensorflow:Can save best model only with val_loss available, skipping.\n",
      "Epoch 8/50\n",
      "46/46 [==============================] - 1s 12ms/step - loss: 0.0225\n",
      "WARNING:tensorflow:Can save best model only with val_loss available, skipping.\n",
      "Epoch 9/50\n",
      "46/46 [==============================] - 1s 13ms/step - loss: 0.0213\n",
      "WARNING:tensorflow:Can save best model only with val_loss available, skipping.\n",
      "Epoch 10/50\n",
      "46/46 [==============================] - 1s 12ms/step - loss: 0.0218\n",
      "WARNING:tensorflow:Can save best model only with val_loss available, skipping.\n",
      "Epoch 11/50\n",
      "46/46 [==============================] - 1s 12ms/step - loss: 0.0202\n",
      "WARNING:tensorflow:Can save best model only with val_loss available, skipping.\n",
      "Epoch 12/50\n",
      "46/46 [==============================] - 1s 12ms/step - loss: 0.0262\n",
      "WARNING:tensorflow:Can save best model only with val_loss available, skipping.\n",
      "Epoch 13/50\n",
      "46/46 [==============================] - 1s 12ms/step - loss: 0.0193\n",
      "WARNING:tensorflow:Can save best model only with val_loss available, skipping.\n",
      "Epoch 14/50\n",
      "46/46 [==============================] - 1s 12ms/step - loss: 0.0215\n",
      "WARNING:tensorflow:Can save best model only with val_loss available, skipping.\n",
      "Epoch 15/50\n",
      "46/46 [==============================] - 1s 12ms/step - loss: 0.0202\n",
      "WARNING:tensorflow:Can save best model only with val_loss available, skipping.\n",
      "Epoch 16/50\n",
      "46/46 [==============================] - 1s 12ms/step - loss: 0.0187\n",
      "WARNING:tensorflow:Can save best model only with val_loss available, skipping.\n",
      "Epoch 17/50\n",
      "46/46 [==============================] - 1s 12ms/step - loss: 0.0205\n",
      "WARNING:tensorflow:Can save best model only with val_loss available, skipping.\n",
      "Epoch 18/50\n",
      "46/46 [==============================] - 1s 12ms/step - loss: 0.0215\n",
      "WARNING:tensorflow:Can save best model only with val_loss available, skipping.\n",
      "Epoch 19/50\n",
      "46/46 [==============================] - 1s 13ms/step - loss: 0.0185\n",
      "WARNING:tensorflow:Can save best model only with val_loss available, skipping.\n",
      "Epoch 20/50\n",
      "46/46 [==============================] - 1s 18ms/step - loss: 0.0186\n",
      "WARNING:tensorflow:Can save best model only with val_loss available, skipping.\n",
      "Epoch 21/50\n",
      "46/46 [==============================] - 1s 12ms/step - loss: 0.0143\n",
      "WARNING:tensorflow:Can save best model only with val_loss available, skipping.\n",
      "Epoch 22/50\n",
      "46/46 [==============================] - 1s 12ms/step - loss: 0.0179\n",
      "WARNING:tensorflow:Can save best model only with val_loss available, skipping.\n",
      "Epoch 23/50\n",
      "46/46 [==============================] - 1s 12ms/step - loss: 0.0149\n",
      "WARNING:tensorflow:Can save best model only with val_loss available, skipping.\n",
      "Epoch 24/50\n",
      "46/46 [==============================] - 1s 12ms/step - loss: 0.0180\n",
      "WARNING:tensorflow:Can save best model only with val_loss available, skipping.\n",
      "Epoch 25/50\n",
      "46/46 [==============================] - 1s 12ms/step - loss: 0.0179\n",
      "WARNING:tensorflow:Can save best model only with val_loss available, skipping.\n",
      "Epoch 26/50\n",
      "46/46 [==============================] - 1s 12ms/step - loss: 0.0178\n",
      "WARNING:tensorflow:Can save best model only with val_loss available, skipping.\n",
      "Epoch 27/50\n",
      "46/46 [==============================] - 1s 12ms/step - loss: 0.0165\n",
      "WARNING:tensorflow:Can save best model only with val_loss available, skipping.\n",
      "Epoch 28/50\n",
      "46/46 [==============================] - 1s 12ms/step - loss: 0.0169\n",
      "WARNING:tensorflow:Can save best model only with val_loss available, skipping.\n",
      "Epoch 29/50\n",
      "46/46 [==============================] - 1s 12ms/step - loss: 0.0181\n",
      "WARNING:tensorflow:Can save best model only with val_loss available, skipping.\n",
      "Epoch 30/50\n",
      "46/46 [==============================] - 1s 12ms/step - loss: 0.0167\n",
      "WARNING:tensorflow:Can save best model only with val_loss available, skipping.\n",
      "Epoch 31/50\n",
      "46/46 [==============================] - 1s 12ms/step - loss: 0.0160\n",
      "WARNING:tensorflow:Can save best model only with val_loss available, skipping.\n",
      "Epoch 32/50\n",
      "46/46 [==============================] - 1s 13ms/step - loss: 0.0168\n",
      "WARNING:tensorflow:Can save best model only with val_loss available, skipping.\n",
      "Epoch 33/50\n",
      "46/46 [==============================] - 1s 12ms/step - loss: 0.0143\n",
      "WARNING:tensorflow:Can save best model only with val_loss available, skipping.\n",
      "Epoch 34/50\n",
      "46/46 [==============================] - 1s 12ms/step - loss: 0.0148\n",
      "WARNING:tensorflow:Can save best model only with val_loss available, skipping.\n",
      "Epoch 35/50\n",
      "46/46 [==============================] - 1s 12ms/step - loss: 0.0138\n",
      "WARNING:tensorflow:Can save best model only with val_loss available, skipping.\n",
      "Epoch 36/50\n",
      "46/46 [==============================] - 1s 13ms/step - loss: 0.0192\n",
      "WARNING:tensorflow:Can save best model only with val_loss available, skipping.\n",
      "Epoch 37/50\n",
      "46/46 [==============================] - 1s 12ms/step - loss: 0.0141\n",
      "WARNING:tensorflow:Can save best model only with val_loss available, skipping.\n",
      "Epoch 38/50\n",
      "46/46 [==============================] - 1s 12ms/step - loss: 0.0146\n",
      "WARNING:tensorflow:Can save best model only with val_loss available, skipping.\n",
      "Epoch 39/50\n",
      "46/46 [==============================] - 1s 12ms/step - loss: 0.0153\n",
      "WARNING:tensorflow:Can save best model only with val_loss available, skipping.\n",
      "Epoch 40/50\n",
      "46/46 [==============================] - 1s 12ms/step - loss: 0.0135\n",
      "WARNING:tensorflow:Can save best model only with val_loss available, skipping.\n",
      "Epoch 41/50\n",
      "46/46 [==============================] - 1s 12ms/step - loss: 0.0153\n",
      "WARNING:tensorflow:Can save best model only with val_loss available, skipping.\n",
      "Epoch 42/50\n",
      "46/46 [==============================] - 1s 12ms/step - loss: 0.0151\n",
      "WARNING:tensorflow:Can save best model only with val_loss available, skipping.\n",
      "Epoch 43/50\n",
      "46/46 [==============================] - 1s 12ms/step - loss: 0.0166\n",
      "WARNING:tensorflow:Can save best model only with val_loss available, skipping.\n",
      "Epoch 44/50\n",
      "46/46 [==============================] - 1s 13ms/step - loss: 0.0123\n",
      "WARNING:tensorflow:Can save best model only with val_loss available, skipping.\n",
      "Epoch 45/50\n",
      "46/46 [==============================] - 1s 12ms/step - loss: 0.0167\n",
      "WARNING:tensorflow:Can save best model only with val_loss available, skipping.\n",
      "Epoch 46/50\n",
      "46/46 [==============================] - 1s 12ms/step - loss: 0.0152\n",
      "WARNING:tensorflow:Can save best model only with val_loss available, skipping.\n",
      "Epoch 47/50\n",
      "46/46 [==============================] - 1s 12ms/step - loss: 0.0156\n",
      "WARNING:tensorflow:Can save best model only with val_loss available, skipping.\n",
      "Epoch 48/50\n",
      "46/46 [==============================] - 1s 12ms/step - loss: 0.0154\n",
      "WARNING:tensorflow:Can save best model only with val_loss available, skipping.\n",
      "Epoch 49/50\n",
      "46/46 [==============================] - 1s 12ms/step - loss: 0.0160\n",
      "WARNING:tensorflow:Can save best model only with val_loss available, skipping.\n",
      "Epoch 50/50\n",
      "46/46 [==============================] - 1s 12ms/step - loss: 0.0160\n",
      "WARNING:tensorflow:Can save best model only with val_loss available, skipping.\n"
     ]
    }
   ],
   "source": [
    "checkpointer = ModelCheckpoint(filepath='stock_lstm.hdf5', \n",
    "                               verbose=1, save_best_only=True)\n",
    "\n",
    "# We train the model with 50 epochs\n",
    "epochs=50\n",
    "history = model.fit(X_train,Y_train,\n",
    "                    epochs=epochs,\n",
    "                    batch_size=30,\n",
    "                    callbacks=[checkpointer],\n",
    "                    verbose=1)"
   ]
  },
  {
   "cell_type": "code",
   "execution_count": 11,
   "id": "transparent-johns",
   "metadata": {},
   "outputs": [
    {
     "data": {
      "image/png": "[encoded data removed]",
      "text/plain": [
       "<Figure size 864x504 with 1 Axes>"
      ]
     },
     "metadata": {
      "needs_background": "light"
     },
     "output_type": "display_data"
    }
   ],
   "source": [
    "plt.figure(figsize=(12,7))\n",
    "loss = history.history['loss']\n",
    "\n",
    "plt.plot(range(len(loss)),loss, label='Training loss')\n",
    "plt.title('Loss')\n",
    "plt.legend()\n",
    "\n",
    "plt.show()"
   ]
  },
  {
   "cell_type": "code",
   "execution_count": 12,
   "id": "adverse-sauce",
   "metadata": {},
   "outputs": [],
   "source": [
    "# Normalize the test data\n",
    "\n",
    "x_test = test._get_numeric_data()\n",
    "x_test = scale.transform(x_test)"
   ]
  },
  {
   "cell_type": "code",
   "execution_count": 18,
   "id": "actual-justice",
   "metadata": {},
   "outputs": [
    {
     "name": "stdout",
     "output_type": "stream",
     "text": [
      "35\n",
      "85\n"
     ]
    }
   ],
   "source": [
    "X_test = []\n",
    "for i in range(step,len(x_test)):\n",
    "    X_test.append(x_test[i-step:i,0])\n",
    "X_test = np.array(X_test)\n",
    "X_test = np.reshape(X_test, (X_test.shape[0],X_test.shape[1],1))\n",
    "\n",
    "# we predict the data and transform the origin dim\n",
    "\n",
    "predict = model.predict(X_test)\n",
    "predict = scale.inverse_transform(predict)\n",
    "print(len(predict))\n",
    "print(len(test))"
   ]
  },
  {
   "cell_type": "code",
   "execution_count": 14,
   "id": "cooked-concentration",
   "metadata": {},
   "outputs": [
    {
     "data": {
      "image/png": "[encoded data removed]",
      "text/plain": [
       "<Figure size 864x504 with 1 Axes>"
      ]
     },
     "metadata": {
      "needs_background": "light"
     },
     "output_type": "display_data"
    }
   ],
   "source": [
    "plt.figure(figsize=(12,7))\n",
    "\n",
    "plt.plot(test.Close[0:len(predict)],color='red', label='Valor Nasdaq')\n",
    "plt.plot(predict, color='blue', label='Predicción Nasdaq')\n",
    "plt.legend()\n",
    "plt.show()"
   ]
  }
 ],
 "metadata": {
  "kernelspec": {
   "display_name": "Python 3",
   "language": "python",
   "name": "python3"
  },
  "language_info": {
   "codemirror_mode": {
    "name": "ipython",
    "version": 3
   },
   "file_extension": ".py",
   "mimetype": "text/x-python",
   "name": "python",
   "nbconvert_exporter": "python",
   "pygments_lexer": "ipython3",
   "version": "3.7.6"
  }
 },
 "nbformat": 4,
 "nbformat_minor": 5
}
